{
 "cells": [
  {
   "cell_type": "code",
   "execution_count": 1,
   "metadata": {},
   "outputs": [],
   "source": [
    "import pandas as pd\n",
    "from sklearn import preprocessing"
   ]
  },
  {
   "cell_type": "code",
   "execution_count": 2,
   "metadata": {},
   "outputs": [
    {
     "data": {
      "text/html": [
       "<div>\n",
       "<style scoped>\n",
       "    .dataframe tbody tr th:only-of-type {\n",
       "        vertical-align: middle;\n",
       "    }\n",
       "\n",
       "    .dataframe tbody tr th {\n",
       "        vertical-align: top;\n",
       "    }\n",
       "\n",
       "    .dataframe thead th {\n",
       "        text-align: right;\n",
       "    }\n",
       "</style>\n",
       "<table border=\"1\" class=\"dataframe\">\n",
       "  <thead>\n",
       "    <tr style=\"text-align: right;\">\n",
       "      <th></th>\n",
       "      <th>Timestamp</th>\n",
       "      <th>Gender</th>\n",
       "      <th>Age</th>\n",
       "      <th>District</th>\n",
       "      <th>Marital_status</th>\n",
       "      <th>Education</th>\n",
       "      <th>Employment</th>\n",
       "      <th>Income</th>\n",
       "      <th>Account_type</th>\n",
       "      <th>Mobile_banking_app_count</th>\n",
       "      <th>...</th>\n",
       "      <th>Period</th>\n",
       "      <th>Services</th>\n",
       "      <th>Motivation</th>\n",
       "      <th>Large_transactions</th>\n",
       "      <th>Frequency</th>\n",
       "      <th>ATM_withdrawal</th>\n",
       "      <th>Security_rating</th>\n",
       "      <th>Additional_charges</th>\n",
       "      <th>Reason</th>\n",
       "      <th>Rating</th>\n",
       "    </tr>\n",
       "  </thead>\n",
       "  <tbody>\n",
       "    <tr>\n",
       "      <th>0</th>\n",
       "      <td>2020/10/31 8:09:34 pm GMT+5:30</td>\n",
       "      <td>Male</td>\n",
       "      <td>25-45</td>\n",
       "      <td>Gampaha</td>\n",
       "      <td>Married</td>\n",
       "      <td>Degree/Diploma</td>\n",
       "      <td>Private Sector - Employee</td>\n",
       "      <td>Above 200,000</td>\n",
       "      <td>Savings;Fixed</td>\n",
       "      <td>2</td>\n",
       "      <td>...</td>\n",
       "      <td>1-2 years</td>\n",
       "      <td>Pay bills (Electricity bill, Telephone bill, e...</td>\n",
       "      <td>Friends</td>\n",
       "      <td>Yes</td>\n",
       "      <td>3 - 6</td>\n",
       "      <td>Between 5000 to 10000</td>\n",
       "      <td>3</td>\n",
       "      <td>Fair</td>\n",
       "      <td>NaN</td>\n",
       "      <td>3.0</td>\n",
       "    </tr>\n",
       "    <tr>\n",
       "      <th>1</th>\n",
       "      <td>2020/10/31 9:33:04 pm GMT+5:30</td>\n",
       "      <td>Male</td>\n",
       "      <td>25-45</td>\n",
       "      <td>Galle</td>\n",
       "      <td>Single</td>\n",
       "      <td>Degree/Diploma</td>\n",
       "      <td>Private Sector - Employee</td>\n",
       "      <td>100,000 - 200,000</td>\n",
       "      <td>Savings;Loan</td>\n",
       "      <td>1</td>\n",
       "      <td>...</td>\n",
       "      <td>More than 2 years</td>\n",
       "      <td>Pay bills (Electricity bill, Telephone bill, e...</td>\n",
       "      <td>Self-motivated</td>\n",
       "      <td>Yes</td>\n",
       "      <td>More than 12 times</td>\n",
       "      <td>More than 50000</td>\n",
       "      <td>4</td>\n",
       "      <td>Fair</td>\n",
       "      <td>NaN</td>\n",
       "      <td>4.0</td>\n",
       "    </tr>\n",
       "    <tr>\n",
       "      <th>2</th>\n",
       "      <td>2020/10/31 9:42:32 pm GMT+5:30</td>\n",
       "      <td>Male</td>\n",
       "      <td>25-45</td>\n",
       "      <td>Gampaha</td>\n",
       "      <td>Single</td>\n",
       "      <td>Masters/Phd</td>\n",
       "      <td>Private Sector - Employee</td>\n",
       "      <td>100,000 - 200,000</td>\n",
       "      <td>Current</td>\n",
       "      <td>3</td>\n",
       "      <td>...</td>\n",
       "      <td>1-2 years</td>\n",
       "      <td>Pay bills (Electricity bill, Telephone bill, e...</td>\n",
       "      <td>Self-motivated</td>\n",
       "      <td>Yes</td>\n",
       "      <td>6 -9</td>\n",
       "      <td>Between 10000 to 50000</td>\n",
       "      <td>3</td>\n",
       "      <td>Fair</td>\n",
       "      <td>I don’t like waiting in the queue</td>\n",
       "      <td>4.0</td>\n",
       "    </tr>\n",
       "    <tr>\n",
       "      <th>3</th>\n",
       "      <td>2020/10/31 9:46:33 pm GMT+5:30</td>\n",
       "      <td>Male</td>\n",
       "      <td>25-45</td>\n",
       "      <td>Badulla</td>\n",
       "      <td>Single</td>\n",
       "      <td>Degree/Diploma</td>\n",
       "      <td>Private Sector - Employee</td>\n",
       "      <td>Above 200,000</td>\n",
       "      <td>Savings;Loan;Fixed</td>\n",
       "      <td>More than 4</td>\n",
       "      <td>...</td>\n",
       "      <td>More than 2 years</td>\n",
       "      <td>Pay bills (Electricity bill, Telephone bill, e...</td>\n",
       "      <td>Self-motivated</td>\n",
       "      <td>Yes</td>\n",
       "      <td>More than 12 times</td>\n",
       "      <td>More than 50000</td>\n",
       "      <td>5</td>\n",
       "      <td>Unfair</td>\n",
       "      <td>I don’t have time to go to the bank;I don’t li...</td>\n",
       "      <td>5.0</td>\n",
       "    </tr>\n",
       "    <tr>\n",
       "      <th>4</th>\n",
       "      <td>2020/10/31 9:47:07 pm GMT+5:30</td>\n",
       "      <td>Male</td>\n",
       "      <td>25-45</td>\n",
       "      <td>Colombo</td>\n",
       "      <td>Single</td>\n",
       "      <td>Degree/Diploma</td>\n",
       "      <td>Family Business / Self Employed</td>\n",
       "      <td>Above 200,000</td>\n",
       "      <td>Savings;Fixed</td>\n",
       "      <td>1</td>\n",
       "      <td>...</td>\n",
       "      <td>Less than 6 months</td>\n",
       "      <td>Sorry, I am not using mobile app. I am using t...</td>\n",
       "      <td>Risks involved in resisting me to use mobile app</td>\n",
       "      <td>No</td>\n",
       "      <td>6 -9</td>\n",
       "      <td>More than 50000</td>\n",
       "      <td>1</td>\n",
       "      <td>Unfair</td>\n",
       "      <td>I am not using</td>\n",
       "      <td>1.0</td>\n",
       "    </tr>\n",
       "  </tbody>\n",
       "</table>\n",
       "<p>5 rows × 21 columns</p>\n",
       "</div>"
      ],
      "text/plain": [
       "                        Timestamp Gender    Age District Marital_status  \\\n",
       "0  2020/10/31 8:09:34 pm GMT+5:30   Male  25-45  Gampaha        Married   \n",
       "1  2020/10/31 9:33:04 pm GMT+5:30   Male  25-45    Galle         Single   \n",
       "2  2020/10/31 9:42:32 pm GMT+5:30   Male  25-45  Gampaha         Single   \n",
       "3  2020/10/31 9:46:33 pm GMT+5:30   Male  25-45  Badulla         Single   \n",
       "4  2020/10/31 9:47:07 pm GMT+5:30   Male  25-45  Colombo         Single   \n",
       "\n",
       "        Education                       Employment             Income  \\\n",
       "0  Degree/Diploma        Private Sector - Employee      Above 200,000   \n",
       "1  Degree/Diploma        Private Sector - Employee  100,000 - 200,000   \n",
       "2     Masters/Phd        Private Sector - Employee  100,000 - 200,000   \n",
       "3  Degree/Diploma        Private Sector - Employee      Above 200,000   \n",
       "4  Degree/Diploma  Family Business / Self Employed      Above 200,000   \n",
       "\n",
       "         Account_type Mobile_banking_app_count  ...              Period  \\\n",
       "0       Savings;Fixed                        2  ...           1-2 years   \n",
       "1        Savings;Loan                        1  ...   More than 2 years   \n",
       "2             Current                        3  ...           1-2 years   \n",
       "3  Savings;Loan;Fixed              More than 4  ...   More than 2 years   \n",
       "4       Savings;Fixed                        1  ...  Less than 6 months   \n",
       "\n",
       "                                            Services  \\\n",
       "0  Pay bills (Electricity bill, Telephone bill, e...   \n",
       "1  Pay bills (Electricity bill, Telephone bill, e...   \n",
       "2  Pay bills (Electricity bill, Telephone bill, e...   \n",
       "3  Pay bills (Electricity bill, Telephone bill, e...   \n",
       "4  Sorry, I am not using mobile app. I am using t...   \n",
       "\n",
       "                                         Motivation Large_transactions  \\\n",
       "0                                           Friends                Yes   \n",
       "1                                    Self-motivated                Yes   \n",
       "2                                    Self-motivated                Yes   \n",
       "3                                    Self-motivated                Yes   \n",
       "4  Risks involved in resisting me to use mobile app                 No   \n",
       "\n",
       "            Frequency          ATM_withdrawal Security_rating  \\\n",
       "0               3 - 6   Between 5000 to 10000               3   \n",
       "1  More than 12 times         More than 50000               4   \n",
       "2                6 -9  Between 10000 to 50000               3   \n",
       "3  More than 12 times         More than 50000               5   \n",
       "4                6 -9         More than 50000               1   \n",
       "\n",
       "   Additional_charges                                             Reason  \\\n",
       "0                Fair                                                NaN   \n",
       "1                Fair                                                NaN   \n",
       "2                Fair                  I don’t like waiting in the queue   \n",
       "3              Unfair  I don’t have time to go to the bank;I don’t li...   \n",
       "4              Unfair                                     I am not using   \n",
       "\n",
       "  Rating  \n",
       "0    3.0  \n",
       "1    4.0  \n",
       "2    4.0  \n",
       "3    5.0  \n",
       "4    1.0  \n",
       "\n",
       "[5 rows x 21 columns]"
      ]
     },
     "execution_count": 2,
     "metadata": {},
     "output_type": "execute_result"
    }
   ],
   "source": [
    "data  = pd.read_csv('Mobile_Banking_App_Usage _analysis.csv')\n",
    "data.head()"
   ]
  },
  {
   "cell_type": "code",
   "execution_count": 3,
   "metadata": {},
   "outputs": [
    {
     "data": {
      "text/plain": [
       "array(['1-2 years', '6 months - 1 year', 'Less than 6 months',\n",
       "       'More than 2 years'], dtype=object)"
      ]
     },
     "execution_count": 3,
     "metadata": {},
     "output_type": "execute_result"
    }
   ],
   "source": [
    "le = preprocessing.LabelEncoder()\n",
    "le.fit(data.Period)\n",
    "le.classes_"
   ]
  },
  {
   "cell_type": "code",
   "execution_count": 4,
   "metadata": {},
   "outputs": [
    {
     "data": {
      "text/plain": [
       "array([0, 3, 0, 3, 2, 2, 0, 3, 0, 1, 3, 3, 3, 2, 1, 1, 3, 0, 3, 2, 0, 3,\n",
       "       2, 1, 0, 1, 3, 2, 1, 2, 0, 1, 0, 1, 1, 0, 0, 2, 0, 0, 1, 2, 1, 3,\n",
       "       3, 0, 3, 3, 0, 0, 0, 2, 3, 1, 1, 0, 3, 0, 0, 0, 0, 3, 1, 3, 2, 0,\n",
       "       0, 0, 3, 0, 2, 1, 3, 1, 0, 2, 1, 1, 1, 3, 2, 1, 0, 1, 0, 0, 0, 2,\n",
       "       0, 1, 2, 2, 1, 1, 3, 0, 0, 3, 3, 3, 2, 3, 2, 1, 2, 3, 3, 3, 0, 3,\n",
       "       0, 1, 3, 3, 0, 2, 3, 2, 3, 0, 3, 0, 2, 0, 2, 1, 3, 0, 2, 0, 0, 0,\n",
       "       1, 1, 3, 3, 3, 3, 3, 0, 0, 0, 0, 0, 0, 2, 1, 1, 1, 1, 0, 0, 2, 2,\n",
       "       0, 2, 0, 2, 0, 1, 2, 1, 3, 0, 1, 0, 3, 0, 3, 2, 0, 1, 1, 0, 0, 1,\n",
       "       0, 2, 0, 2, 1, 1, 1, 3, 3, 2])"
      ]
     },
     "execution_count": 4,
     "metadata": {},
     "output_type": "execute_result"
    }
   ],
   "source": [
    "labelld_period = le.transform(data.Period)\n",
    "labelld_period"
   ]
  },
  {
   "cell_type": "code",
   "execution_count": 5,
   "metadata": {},
   "outputs": [
    {
     "data": {
      "text/plain": [
       "34"
      ]
     },
     "execution_count": 5,
     "metadata": {},
     "output_type": "execute_result"
    }
   ],
   "source": [
    "data[(data['Period'] == 'More than 2 years') & (data['Large_transactions'] == 'Yes')].shape[0]"
   ]
  },
  {
   "cell_type": "code",
   "execution_count": 6,
   "metadata": {},
   "outputs": [
    {
     "data": {
      "text/plain": [
       "2"
      ]
     },
     "execution_count": 6,
     "metadata": {},
     "output_type": "execute_result"
    }
   ],
   "source": [
    "data[(data['Additional_charges'] == 'Fair') & (data['Rating'] == 1)].shape[0]"
   ]
  },
  {
   "cell_type": "code",
   "execution_count": 7,
   "metadata": {},
   "outputs": [
    {
     "data": {
      "text/plain": [
       "91"
      ]
     },
     "execution_count": 7,
     "metadata": {},
     "output_type": "execute_result"
    }
   ],
   "source": [
    "data[(data['Large_transactions'] == 'No')].shape[0]"
   ]
  },
  {
   "cell_type": "code",
   "execution_count": 8,
   "metadata": {},
   "outputs": [
    {
     "data": {
      "text/plain": [
       "38"
      ]
     },
     "execution_count": 8,
     "metadata": {},
     "output_type": "execute_result"
    }
   ],
   "source": [
    "data[(data['Gender'] == 'Female') & (data['Additional_charges'] == 'Unfair')].shape[0]"
   ]
  },
  {
   "cell_type": "code",
   "execution_count": 9,
   "metadata": {},
   "outputs": [
    {
     "data": {
      "text/plain": [
       "171"
      ]
     },
     "execution_count": 9,
     "metadata": {},
     "output_type": "execute_result"
    }
   ],
   "source": [
    "data[(data['Marital_status'] == 'Single')].shape[0]"
   ]
  },
  {
   "cell_type": "code",
   "execution_count": 15,
   "metadata": {},
   "outputs": [
    {
     "data": {
      "text/plain": [
       "32"
      ]
     },
     "execution_count": 15,
     "metadata": {},
     "output_type": "execute_result"
    }
   ],
   "source": [
    "data[((data['Income'] == 'Less than 15,000') | (data['Income'] == '15,000 - 50,000') | (data['Income'] == '50,000 - 100,000')) & (data['Bank_type'] == 'Private')].shape[0]"
   ]
  },
  {
   "cell_type": "code",
   "execution_count": null,
   "metadata": {},
   "outputs": [],
   "source": []
  }
 ],
 "metadata": {
  "kernelspec": {
   "display_name": "Python 3",
   "language": "python",
   "name": "python3"
  },
  "language_info": {
   "codemirror_mode": {
    "name": "ipython",
    "version": 3
   },
   "file_extension": ".py",
   "mimetype": "text/x-python",
   "name": "python",
   "nbconvert_exporter": "python",
   "pygments_lexer": "ipython3",
   "version": "3.6.9"
  }
 },
 "nbformat": 4,
 "nbformat_minor": 4
}
